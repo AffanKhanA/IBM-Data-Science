{
 "cells": [
  {
   "cell_type": "markdown",
   "metadata": {},
   "source": [
    "# My Jupyter Notebook on IBM Data Science Experience"
   ]
  },
  {
   "cell_type": "markdown",
   "metadata": {},
   "source": [
    "__Mohammed Affan Khan A__\n",
    "\n",
    "My desired occupation is Data Scientist."
   ]
  },
  {
   "cell_type": "markdown",
   "metadata": {},
   "source": [
    "*I am interested in Data Science because I am a very logical person who likes to use creativity and judgemental skills to solve problems. Also, it is considered as a very promising job role.*"
   ]
  },
  {
   "cell_type": "markdown",
   "metadata": {},
   "source": [
    "### The code in Cell 5 is supposed to perform some kind of function, for example, The arithmetic computation of '1+1' and display the output as 2."
   ]
  },
  {
   "cell_type": "code",
   "execution_count": null,
   "metadata": {},
   "outputs": [],
   "source": [
    "1+1"
   ]
  },
  {
   "cell_type": "markdown",
   "metadata": {},
   "source": [
    "My favourite Sports are :\n",
    "1. Football\n",
    "3. Cricket\n",
    "4. Boxing\n",
    "\n",
    "My favourite foods are :\n",
    "* Biriyani\n",
    "* Chicken Tandoori\n",
    "* ~~Burrito~~\n",
    "* Pizza"
   ]
  },
  {
   "cell_type": "code",
   "execution_count": null,
   "metadata": {},
   "outputs": [],
   "source": []
  }
 ],
 "metadata": {
  "kernelspec": {
   "display_name": "Python 3",
   "language": "python",
   "name": "python3"
  },
  "language_info": {
   "name": ""
  }
 },
 "nbformat": 4,
 "nbformat_minor": 2
}
